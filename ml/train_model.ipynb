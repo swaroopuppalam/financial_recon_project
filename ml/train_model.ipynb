{
 "cells": [
  {
   "cell_type": "code",
   "execution_count": 3,
   "id": "16bd7fb9-5f8b-4a4f-9f04-14e1955f7b5a",
   "metadata": {},
   "outputs": [
    {
     "name": "stdout",
     "output_type": "stream",
     "text": [
      "Modules loaded successfully!\n"
     ]
    }
   ],
   "source": [
    "import pandas as pd\n",
    "import joblib\n",
    "from sklearn.ensemble import IsolationForest\n",
    "from sklearn.preprocessing import LabelEncoder\n",
    "\n",
    "print(\"Modules loaded successfully!\")\n"
   ]
  },
  {
   "cell_type": "code",
   "execution_count": 4,
   "id": "8540cb93-6cb0-4d32-8ea2-46f708b9f097",
   "metadata": {},
   "outputs": [
    {
     "name": "stdout",
     "output_type": "stream",
     "text": [
      "Model trained and saved.\n"
     ]
    }
   ],
   "source": [
    "# Load Data\n",
    "df = pd.read_csv('historical_reconciliation.csv')\n",
    "\n",
    "# Encode string columns\n",
    "for col in [\"Primary Account\", \"Secondary Account\", \"Currency\"]:\n",
    "    le = LabelEncoder()\n",
    "    df[col] = le.fit_transform(df[col])\n",
    "\n",
    "# Train model\n",
    "features = [\"Balance Difference\", \"Primary Account\", \"Secondary Account\", \"Currency\"]\n",
    "model = IsolationForest(n_estimators=100, contamination=0.05, random_state=42)\n",
    "df[\"Anomaly\"] = model.fit_predict(df[features])\n",
    "\n",
    "# Save model\n",
    "joblib.dump(model, \"model.pkl\")\n",
    "print(\"Model trained and saved.\")"
   ]
  },
  {
   "cell_type": "code",
   "execution_count": null,
   "id": "bb16aa6f-183a-4bff-a890-5701642587bc",
   "metadata": {},
   "outputs": [],
   "source": []
  }
 ],
 "metadata": {
  "kernelspec": {
   "display_name": "Python (financial_recon_env)",
   "language": "python",
   "name": "financial_recon_env"
  },
  "language_info": {
   "codemirror_mode": {
    "name": "ipython",
    "version": 3
   },
   "file_extension": ".py",
   "mimetype": "text/x-python",
   "name": "python",
   "nbconvert_exporter": "python",
   "pygments_lexer": "ipython3",
   "version": "3.13.2"
  }
 },
 "nbformat": 4,
 "nbformat_minor": 5
}
