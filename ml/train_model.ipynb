{
 "cells": [
  {
   "cell_type": "code",
   "execution_count": null,
   "id": "dcbc978f",
   "metadata": {},
   "outputs": [],
   "source": [
    "import pandas as pd\n",
    "import joblib\n",
    "from sklearn.ensemble import IsolationForest\n",
    "\n",
    "# Load Data\n",
    "df = pd.read_csv('historical_reconciliation.csv')\n",
    "\n",
    "# Train Model\n",
    "features = ['Balance Difference', 'Primary Account', 'Secondary Account', 'Currency']\n",
    "model = IsolationForest(n_estimators=100, contamination=0.05, random_state=42)\n",
    "df['Anomaly'] = model.fit_predict(df[features])\n",
    "\n",
    "# Save Model\n",
    "joblib.dump(model, 'model.pkl')\n",
    "print('Model trained and saved successfully.')"
   ]
  }
 ],
 "metadata": {
  "kernelspec": {
   "display_name": "Python 3",
   "language": "python",
   "name": "python3"
  },
  "language_info": {
   "codemirror_mode": {
    "name": "ipython",
    "version": 3
   },
   "file_extension": ".py",
   "mimetype": "text/x-python",
   "name": "python",
   "nbconvert_exporter": "python",
   "pygments_lexer": "ipython3",
   "version": "3.8.10"
  }
 },
 "nbformat": 4,
 "nbformat_minor": 4
}
